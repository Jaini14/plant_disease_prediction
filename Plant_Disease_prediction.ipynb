{
 "cells": [
  {
   "cell_type": "code",
   "execution_count": 1,
   "id": "8b4a82ec",
   "metadata": {},
   "outputs": [],
   "source": [
    "import os\n",
    "import numpy as np\n",
    "import matplotlib.pyplot as plt\n",
    "from tensorflow.keras.preprocessing.image import ImageDataGenerator\n",
    "from tensorflow.keras.models import Sequential\n",
    "from tensorflow.keras.layers import Conv2D, MaxPooling2D, Flatten, Dense, Dropout\n",
    "from tensorflow.keras.optimizers import Adam\n",
    "from sklearn.metrics import classification_report, confusion_matrix\n",
    "import seaborn as sns"
   ]
  },
  {
   "cell_type": "code",
   "execution_count": 2,
   "id": "b714fc1a",
   "metadata": {},
   "outputs": [],
   "source": [
    "import zipfile\n",
    "import os\n",
    "\n",
    "os.makedirs(\"plant_dataset/train\", exist_ok=True)\n",
    "os.makedirs(\"plant_dataset/validation\", exist_ok=True)\n",
    "\n",
    "with zipfile.ZipFile(\"Plant_Valid_Dataset.zip\", 'r') as zip_ref:\n",
    "    zip_ref.extractall(\"plant_dataset/train\")\n",
    "\n",
    "with zipfile.ZipFile(\"Plant_train_ZipN.zip\", 'r') as zip_ref:\n",
    "    zip_ref.extractall(\"plant_dataset/validation\")"
   ]
  },
  {
   "cell_type": "code",
   "execution_count": 3,
   "id": "21545145",
   "metadata": {
    "scrolled": true
   },
   "outputs": [
    {
     "name": "stdout",
     "output_type": "stream",
     "text": [
      "Train Classes: ['Apple___Apple_scab', 'Apple___Black_rot', 'Apple___Cedar_apple_rust', 'Apple___healthy', 'Blueberry___healthy', 'Cherry_(including_sour)___healthy', 'Cherry_(including_sour)___Powdery_mildew', 'Corn_(maize)___Cercospora_leaf_spot Gray_leaf_spot', 'Corn_(maize)___Common_rust_', 'Corn_(maize)___healthy', 'Corn_(maize)___Northern_Leaf_Blight', 'Grape___Black_rot', 'Grape___Esca_(Black_Measles)', 'Grape___healthy', 'Grape___Leaf_blight_(Isariopsis_Leaf_Spot)', 'Orange___Haunglongbing_(Citrus_greening)', 'Peach___Bacterial_spot', 'Peach___healthy', 'Pepper,_bell___Bacterial_spot', 'Pepper,_bell___healthy', 'Potato___Early_blight', 'Potato___healthy', 'Potato___Late_blight', 'Raspberry___healthy', 'Soybean___healthy', 'Squash___Powdery_mildew', 'Strawberry___healthy', 'Strawberry___Leaf_scorch', 'Tomato___Bacterial_spot', 'Tomato___Early_blight', 'Tomato___healthy', 'Tomato___Late_blight', 'Tomato___Leaf_Mold', 'Tomato___Septoria_leaf_spot', 'Tomato___Spider_mites Two-spotted_spider_mite', 'Tomato___Target_Spot', 'Tomato___Tomato_mosaic_virus', 'Tomato___Tomato_Yellow_Leaf_Curl_Virus']\n",
      "Validation Classes: ['Apple___Apple_scab', 'Apple___Black_rot', 'Apple___Cedar_apple_rust', 'Apple___healthy', 'Blueberry___healthy', 'Cherry_(including_sour)___healthy', 'Cherry_(including_sour)___Powdery_mildew', 'Corn_(maize)___Cercospora_leaf_spot Gray_leaf_spot', 'Corn_(maize)___Common_rust_', 'Corn_(maize)___healthy', 'Corn_(maize)___Northern_Leaf_Blight', 'Grape___Black_rot', 'Grape___Esca_(Black_Measles)', 'Grape___healthy', 'Grape___Leaf_blight_(Isariopsis_Leaf_Spot)', 'Orange___Haunglongbing_(Citrus_greening)', 'Peach___Bacterial_spot', 'Peach___healthy', 'Pepper,_bell___Bacterial_spot', 'Pepper,_bell___healthy', 'Potato___Early_blight', 'Potato___healthy', 'Potato___Late_blight', 'Raspberry___healthy', 'Soybean___healthy', 'Squash___Powdery_mildew', 'Strawberry___healthy', 'Strawberry___Leaf_scorch', 'Tomato___Bacterial_spot', 'Tomato___Early_blight', 'Tomato___healthy', 'Tomato___Late_blight', 'Tomato___Leaf_Mold', 'Tomato___Septoria_leaf_spot', 'Tomato___Spider_mites Two-spotted_spider_mite', 'Tomato___Target_Spot', 'Tomato___Tomato_mosaic_virus', 'Tomato___Tomato_Yellow_Leaf_Curl_Virus']\n"
     ]
    }
   ],
   "source": [
    " import os\n",
    "\n",
    "print(\"Train Classes:\", os.listdir(\"plant_dataset/train\"))\n",
    "print(\"Validation Classes:\", os.listdir(\"plant_dataset/validation\"))\n"
   ]
  },
  {
   "cell_type": "code",
   "execution_count": 4,
   "id": "cab2e8b2",
   "metadata": {},
   "outputs": [
    {
     "name": "stdout",
     "output_type": "stream",
     "text": [
      "Found 17572 images belonging to 38 classes.\n",
      "Found 73334 images belonging to 38 classes.\n"
     ]
    }
   ],
   "source": [
    "from tensorflow.keras.preprocessing.image import ImageDataGenerator\n",
    "\n",
    "img_width, img_height = 128, 128\n",
    "batch_size = 32\n",
    "\n",
    "train_datagen = ImageDataGenerator(rescale=1./255)\n",
    "val_datagen = ImageDataGenerator(rescale=1./255)\n",
    "\n",
    "train_generator = train_datagen.flow_from_directory(\n",
    "    'plant_dataset/train',\n",
    "    target_size=(img_width, img_height),\n",
    "    batch_size=batch_size,\n",
    "    class_mode='categorical'\n",
    ")\n",
    "\n",
    "validation_generator = val_datagen.flow_from_directory(\n",
    "    'plant_dataset/validation',\n",
    "    target_size=(img_width, img_height),\n",
    "    batch_size=batch_size,\n",
    "    class_mode='categorical'\n",
    ")\n"
   ]
  },
  {
   "cell_type": "code",
   "execution_count": 5,
   "id": "babb0bab-1f50-4019-90b4-00d128807300",
   "metadata": {
    "scrolled": true
   },
   "outputs": [
    {
     "name": "stderr",
     "output_type": "stream",
     "text": [
      "C:\\Users\\jaini\\.conda\\envs\\plant-disease-predict\\lib\\site-packages\\keras\\src\\layers\\convolutional\\base_conv.py:107: UserWarning: Do not pass an `input_shape`/`input_dim` argument to a layer. When using Sequential models, prefer using an `Input(shape)` object as the first layer in the model instead.\n",
      "  super().__init__(activity_regularizer=activity_regularizer, **kwargs)\n"
     ]
    },
    {
     "data": {
      "text/html": [
       "<pre style=\"white-space:pre;overflow-x:auto;line-height:normal;font-family:Menlo,'DejaVu Sans Mono',consolas,'Courier New',monospace\"><span style=\"font-weight: bold\">Model: \"sequential\"</span>\n",
       "</pre>\n"
      ],
      "text/plain": [
       "\u001b[1mModel: \"sequential\"\u001b[0m\n"
      ]
     },
     "metadata": {},
     "output_type": "display_data"
    },
    {
     "data": {
      "text/html": [
       "<pre style=\"white-space:pre;overflow-x:auto;line-height:normal;font-family:Menlo,'DejaVu Sans Mono',consolas,'Courier New',monospace\">┏━━━━━━━━━━━━━━━━━━━━━━━━━━━━━━━━━━━━━━┳━━━━━━━━━━━━━━━━━━━━━━━━━━━━━┳━━━━━━━━━━━━━━━━━┓\n",
       "┃<span style=\"font-weight: bold\"> Layer (type)                         </span>┃<span style=\"font-weight: bold\"> Output Shape                </span>┃<span style=\"font-weight: bold\">         Param # </span>┃\n",
       "┡━━━━━━━━━━━━━━━━━━━━━━━━━━━━━━━━━━━━━━╇━━━━━━━━━━━━━━━━━━━━━━━━━━━━━╇━━━━━━━━━━━━━━━━━┩\n",
       "│ conv2d (<span style=\"color: #0087ff; text-decoration-color: #0087ff\">Conv2D</span>)                      │ (<span style=\"color: #00d7ff; text-decoration-color: #00d7ff\">None</span>, <span style=\"color: #00af00; text-decoration-color: #00af00\">126</span>, <span style=\"color: #00af00; text-decoration-color: #00af00\">126</span>, <span style=\"color: #00af00; text-decoration-color: #00af00\">32</span>)        │             <span style=\"color: #00af00; text-decoration-color: #00af00\">896</span> │\n",
       "├──────────────────────────────────────┼─────────────────────────────┼─────────────────┤\n",
       "│ max_pooling2d (<span style=\"color: #0087ff; text-decoration-color: #0087ff\">MaxPooling2D</span>)         │ (<span style=\"color: #00d7ff; text-decoration-color: #00d7ff\">None</span>, <span style=\"color: #00af00; text-decoration-color: #00af00\">63</span>, <span style=\"color: #00af00; text-decoration-color: #00af00\">63</span>, <span style=\"color: #00af00; text-decoration-color: #00af00\">32</span>)          │               <span style=\"color: #00af00; text-decoration-color: #00af00\">0</span> │\n",
       "├──────────────────────────────────────┼─────────────────────────────┼─────────────────┤\n",
       "│ conv2d_1 (<span style=\"color: #0087ff; text-decoration-color: #0087ff\">Conv2D</span>)                    │ (<span style=\"color: #00d7ff; text-decoration-color: #00d7ff\">None</span>, <span style=\"color: #00af00; text-decoration-color: #00af00\">61</span>, <span style=\"color: #00af00; text-decoration-color: #00af00\">61</span>, <span style=\"color: #00af00; text-decoration-color: #00af00\">64</span>)          │          <span style=\"color: #00af00; text-decoration-color: #00af00\">18,496</span> │\n",
       "├──────────────────────────────────────┼─────────────────────────────┼─────────────────┤\n",
       "│ max_pooling2d_1 (<span style=\"color: #0087ff; text-decoration-color: #0087ff\">MaxPooling2D</span>)       │ (<span style=\"color: #00d7ff; text-decoration-color: #00d7ff\">None</span>, <span style=\"color: #00af00; text-decoration-color: #00af00\">30</span>, <span style=\"color: #00af00; text-decoration-color: #00af00\">30</span>, <span style=\"color: #00af00; text-decoration-color: #00af00\">64</span>)          │               <span style=\"color: #00af00; text-decoration-color: #00af00\">0</span> │\n",
       "├──────────────────────────────────────┼─────────────────────────────┼─────────────────┤\n",
       "│ conv2d_2 (<span style=\"color: #0087ff; text-decoration-color: #0087ff\">Conv2D</span>)                    │ (<span style=\"color: #00d7ff; text-decoration-color: #00d7ff\">None</span>, <span style=\"color: #00af00; text-decoration-color: #00af00\">28</span>, <span style=\"color: #00af00; text-decoration-color: #00af00\">28</span>, <span style=\"color: #00af00; text-decoration-color: #00af00\">128</span>)         │          <span style=\"color: #00af00; text-decoration-color: #00af00\">73,856</span> │\n",
       "├──────────────────────────────────────┼─────────────────────────────┼─────────────────┤\n",
       "│ max_pooling2d_2 (<span style=\"color: #0087ff; text-decoration-color: #0087ff\">MaxPooling2D</span>)       │ (<span style=\"color: #00d7ff; text-decoration-color: #00d7ff\">None</span>, <span style=\"color: #00af00; text-decoration-color: #00af00\">14</span>, <span style=\"color: #00af00; text-decoration-color: #00af00\">14</span>, <span style=\"color: #00af00; text-decoration-color: #00af00\">128</span>)         │               <span style=\"color: #00af00; text-decoration-color: #00af00\">0</span> │\n",
       "├──────────────────────────────────────┼─────────────────────────────┼─────────────────┤\n",
       "│ flatten (<span style=\"color: #0087ff; text-decoration-color: #0087ff\">Flatten</span>)                    │ (<span style=\"color: #00d7ff; text-decoration-color: #00d7ff\">None</span>, <span style=\"color: #00af00; text-decoration-color: #00af00\">25088</span>)               │               <span style=\"color: #00af00; text-decoration-color: #00af00\">0</span> │\n",
       "├──────────────────────────────────────┼─────────────────────────────┼─────────────────┤\n",
       "│ dense (<span style=\"color: #0087ff; text-decoration-color: #0087ff\">Dense</span>)                        │ (<span style=\"color: #00d7ff; text-decoration-color: #00d7ff\">None</span>, <span style=\"color: #00af00; text-decoration-color: #00af00\">256</span>)                 │       <span style=\"color: #00af00; text-decoration-color: #00af00\">6,422,784</span> │\n",
       "├──────────────────────────────────────┼─────────────────────────────┼─────────────────┤\n",
       "│ dropout (<span style=\"color: #0087ff; text-decoration-color: #0087ff\">Dropout</span>)                    │ (<span style=\"color: #00d7ff; text-decoration-color: #00d7ff\">None</span>, <span style=\"color: #00af00; text-decoration-color: #00af00\">256</span>)                 │               <span style=\"color: #00af00; text-decoration-color: #00af00\">0</span> │\n",
       "├──────────────────────────────────────┼─────────────────────────────┼─────────────────┤\n",
       "│ dense_1 (<span style=\"color: #0087ff; text-decoration-color: #0087ff\">Dense</span>)                      │ (<span style=\"color: #00d7ff; text-decoration-color: #00d7ff\">None</span>, <span style=\"color: #00af00; text-decoration-color: #00af00\">38</span>)                  │           <span style=\"color: #00af00; text-decoration-color: #00af00\">9,766</span> │\n",
       "└──────────────────────────────────────┴─────────────────────────────┴─────────────────┘\n",
       "</pre>\n"
      ],
      "text/plain": [
       "┏━━━━━━━━━━━━━━━━━━━━━━━━━━━━━━━━━━━━━━┳━━━━━━━━━━━━━━━━━━━━━━━━━━━━━┳━━━━━━━━━━━━━━━━━┓\n",
       "┃\u001b[1m \u001b[0m\u001b[1mLayer (type)                        \u001b[0m\u001b[1m \u001b[0m┃\u001b[1m \u001b[0m\u001b[1mOutput Shape               \u001b[0m\u001b[1m \u001b[0m┃\u001b[1m \u001b[0m\u001b[1m        Param #\u001b[0m\u001b[1m \u001b[0m┃\n",
       "┡━━━━━━━━━━━━━━━━━━━━━━━━━━━━━━━━━━━━━━╇━━━━━━━━━━━━━━━━━━━━━━━━━━━━━╇━━━━━━━━━━━━━━━━━┩\n",
       "│ conv2d (\u001b[38;5;33mConv2D\u001b[0m)                      │ (\u001b[38;5;45mNone\u001b[0m, \u001b[38;5;34m126\u001b[0m, \u001b[38;5;34m126\u001b[0m, \u001b[38;5;34m32\u001b[0m)        │             \u001b[38;5;34m896\u001b[0m │\n",
       "├──────────────────────────────────────┼─────────────────────────────┼─────────────────┤\n",
       "│ max_pooling2d (\u001b[38;5;33mMaxPooling2D\u001b[0m)         │ (\u001b[38;5;45mNone\u001b[0m, \u001b[38;5;34m63\u001b[0m, \u001b[38;5;34m63\u001b[0m, \u001b[38;5;34m32\u001b[0m)          │               \u001b[38;5;34m0\u001b[0m │\n",
       "├──────────────────────────────────────┼─────────────────────────────┼─────────────────┤\n",
       "│ conv2d_1 (\u001b[38;5;33mConv2D\u001b[0m)                    │ (\u001b[38;5;45mNone\u001b[0m, \u001b[38;5;34m61\u001b[0m, \u001b[38;5;34m61\u001b[0m, \u001b[38;5;34m64\u001b[0m)          │          \u001b[38;5;34m18,496\u001b[0m │\n",
       "├──────────────────────────────────────┼─────────────────────────────┼─────────────────┤\n",
       "│ max_pooling2d_1 (\u001b[38;5;33mMaxPooling2D\u001b[0m)       │ (\u001b[38;5;45mNone\u001b[0m, \u001b[38;5;34m30\u001b[0m, \u001b[38;5;34m30\u001b[0m, \u001b[38;5;34m64\u001b[0m)          │               \u001b[38;5;34m0\u001b[0m │\n",
       "├──────────────────────────────────────┼─────────────────────────────┼─────────────────┤\n",
       "│ conv2d_2 (\u001b[38;5;33mConv2D\u001b[0m)                    │ (\u001b[38;5;45mNone\u001b[0m, \u001b[38;5;34m28\u001b[0m, \u001b[38;5;34m28\u001b[0m, \u001b[38;5;34m128\u001b[0m)         │          \u001b[38;5;34m73,856\u001b[0m │\n",
       "├──────────────────────────────────────┼─────────────────────────────┼─────────────────┤\n",
       "│ max_pooling2d_2 (\u001b[38;5;33mMaxPooling2D\u001b[0m)       │ (\u001b[38;5;45mNone\u001b[0m, \u001b[38;5;34m14\u001b[0m, \u001b[38;5;34m14\u001b[0m, \u001b[38;5;34m128\u001b[0m)         │               \u001b[38;5;34m0\u001b[0m │\n",
       "├──────────────────────────────────────┼─────────────────────────────┼─────────────────┤\n",
       "│ flatten (\u001b[38;5;33mFlatten\u001b[0m)                    │ (\u001b[38;5;45mNone\u001b[0m, \u001b[38;5;34m25088\u001b[0m)               │               \u001b[38;5;34m0\u001b[0m │\n",
       "├──────────────────────────────────────┼─────────────────────────────┼─────────────────┤\n",
       "│ dense (\u001b[38;5;33mDense\u001b[0m)                        │ (\u001b[38;5;45mNone\u001b[0m, \u001b[38;5;34m256\u001b[0m)                 │       \u001b[38;5;34m6,422,784\u001b[0m │\n",
       "├──────────────────────────────────────┼─────────────────────────────┼─────────────────┤\n",
       "│ dropout (\u001b[38;5;33mDropout\u001b[0m)                    │ (\u001b[38;5;45mNone\u001b[0m, \u001b[38;5;34m256\u001b[0m)                 │               \u001b[38;5;34m0\u001b[0m │\n",
       "├──────────────────────────────────────┼─────────────────────────────┼─────────────────┤\n",
       "│ dense_1 (\u001b[38;5;33mDense\u001b[0m)                      │ (\u001b[38;5;45mNone\u001b[0m, \u001b[38;5;34m38\u001b[0m)                  │           \u001b[38;5;34m9,766\u001b[0m │\n",
       "└──────────────────────────────────────┴─────────────────────────────┴─────────────────┘\n"
      ]
     },
     "metadata": {},
     "output_type": "display_data"
    },
    {
     "data": {
      "text/html": [
       "<pre style=\"white-space:pre;overflow-x:auto;line-height:normal;font-family:Menlo,'DejaVu Sans Mono',consolas,'Courier New',monospace\"><span style=\"font-weight: bold\"> Total params: </span><span style=\"color: #00af00; text-decoration-color: #00af00\">6,525,798</span> (24.89 MB)\n",
       "</pre>\n"
      ],
      "text/plain": [
       "\u001b[1m Total params: \u001b[0m\u001b[38;5;34m6,525,798\u001b[0m (24.89 MB)\n"
      ]
     },
     "metadata": {},
     "output_type": "display_data"
    },
    {
     "data": {
      "text/html": [
       "<pre style=\"white-space:pre;overflow-x:auto;line-height:normal;font-family:Menlo,'DejaVu Sans Mono',consolas,'Courier New',monospace\"><span style=\"font-weight: bold\"> Trainable params: </span><span style=\"color: #00af00; text-decoration-color: #00af00\">6,525,798</span> (24.89 MB)\n",
       "</pre>\n"
      ],
      "text/plain": [
       "\u001b[1m Trainable params: \u001b[0m\u001b[38;5;34m6,525,798\u001b[0m (24.89 MB)\n"
      ]
     },
     "metadata": {},
     "output_type": "display_data"
    },
    {
     "data": {
      "text/html": [
       "<pre style=\"white-space:pre;overflow-x:auto;line-height:normal;font-family:Menlo,'DejaVu Sans Mono',consolas,'Courier New',monospace\"><span style=\"font-weight: bold\"> Non-trainable params: </span><span style=\"color: #00af00; text-decoration-color: #00af00\">0</span> (0.00 B)\n",
       "</pre>\n"
      ],
      "text/plain": [
       "\u001b[1m Non-trainable params: \u001b[0m\u001b[38;5;34m0\u001b[0m (0.00 B)\n"
      ]
     },
     "metadata": {},
     "output_type": "display_data"
    }
   ],
   "source": [
    "model = Sequential([\n",
    "Conv2D(32, (3, 3), activation='relu', input_shape=(img_width, img_height, 3)),\n",
    "MaxPooling2D(2, 2),\n",
    "Conv2D(64, (3, 3), activation='relu'),\n",
    "MaxPooling2D(2, 2),\n",
    "Conv2D(128, (3, 3), activation='relu'),\n",
    "MaxPooling2D(2, 2),\n",
    "Flatten(),\n",
    "Dense(256, activation='relu'),\n",
    "Dropout(0.5),\n",
    "Dense(train_generator.num_classes, activation='softmax')\n",
    "])\n",
    "model.compile(optimizer=Adam(learning_rate=0.0001),\n",
    "loss='categorical_crossentropy',\n",
    "metrics=['accuracy'])\n",
    "model.summary()"
   ]
  },
  {
   "cell_type": "code",
   "execution_count": 6,
   "id": "bb0ed0b2-6950-427f-b475-5860f3d75b6f",
   "metadata": {},
   "outputs": [
    {
     "name": "stderr",
     "output_type": "stream",
     "text": [
      "C:\\Users\\jaini\\.conda\\envs\\plant-disease-predict\\lib\\site-packages\\keras\\src\\trainers\\data_adapters\\py_dataset_adapter.py:121: UserWarning: Your `PyDataset` class should call `super().__init__(**kwargs)` in its constructor. `**kwargs` can include `workers`, `use_multiprocessing`, `max_queue_size`. Do not pass these arguments to `fit()`, as they will be ignored.\n",
      "  self._warn_if_super_not_called()\n"
     ]
    },
    {
     "name": "stdout",
     "output_type": "stream",
     "text": [
      "Epoch 1/3\n",
      "\u001b[1m549/549\u001b[0m \u001b[32m━━━━━━━━━━━━━━━━━━━━\u001b[0m\u001b[37m\u001b[0m \u001b[1m4407s\u001b[0m 8s/step - accuracy: 0.1082 - loss: 3.3692 - val_accuracy: 0.4593 - val_loss: 2.2016\n",
      "Epoch 2/3\n",
      "\u001b[1m  1/549\u001b[0m \u001b[37m━━━━━━━━━━━━━━━━━━━━\u001b[0m \u001b[1m22:42\u001b[0m 2s/step - accuracy: 0.2188 - loss: 2.7061"
     ]
    },
    {
     "name": "stderr",
     "output_type": "stream",
     "text": [
      "C:\\Users\\jaini\\.conda\\envs\\plant-disease-predict\\lib\\site-packages\\keras\\src\\trainers\\epoch_iterator.py:107: UserWarning: Your input ran out of data; interrupting training. Make sure that your dataset or generator can generate at least `steps_per_epoch * epochs` batches. You may need to use the `.repeat()` function when building your dataset.\n",
      "  self._interrupted_warning()\n"
     ]
    },
    {
     "name": "stdout",
     "output_type": "stream",
     "text": [
      "\u001b[1m549/549\u001b[0m \u001b[32m━━━━━━━━━━━━━━━━━━━━\u001b[0m\u001b[37m\u001b[0m \u001b[1m1921s\u001b[0m 4s/step - accuracy: 0.2188 - loss: 2.7061 - val_accuracy: 0.4676 - val_loss: 2.1833\n",
      "Epoch 3/3\n",
      "\u001b[1m549/549\u001b[0m \u001b[32m━━━━━━━━━━━━━━━━━━━━\u001b[0m\u001b[37m\u001b[0m \u001b[1m3272s\u001b[0m 6s/step - accuracy: 0.3685 - loss: 2.2523 - val_accuracy: 0.5878 - val_loss: 1.7598\n"
     ]
    }
   ],
   "source": [
    "epochs = 3\n",
    "history = model.fit(\n",
    "train_generator,\n",
    "steps_per_epoch=train_generator.samples // batch_size,\n",
    "validation_data=validation_generator,\n",
    "validation_steps=validation_generator.samples // batch_size,\n",
    "epochs=epochs)"
   ]
  },
  {
   "cell_type": "code",
   "execution_count": 7,
   "id": "1c80d044-9473-4fa6-b4f3-460640291ccb",
   "metadata": {},
   "outputs": [
    {
     "name": "stderr",
     "output_type": "stream",
     "text": [
      "WARNING:absl:You are saving your model as an HDF5 file via `model.save()` or `keras.saving.save_model(model)`. This file format is considered legacy. We recommend using instead the native Keras format, e.g. `model.save('my_model.keras')` or `keras.saving.save_model(model, 'my_model.keras')`. \n"
     ]
    }
   ],
   "source": [
    "model.save('Plant_disease_model.h5')"
   ]
  },
  {
   "cell_type": "code",
   "execution_count": 8,
   "id": "577c17ff-e647-4cdb-a1a8-196a6e0f9687",
   "metadata": {},
   "outputs": [
    {
     "data": {
      "image/png": "[encoded data removed]",
      "text/plain": [
       "<Figure size 1200x500 with 2 Axes>"
      ]
     },
     "metadata": {},
     "output_type": "display_data"
    }
   ],
   "source": [
    "plt.figure(figsize=(12, 5))\n",
    "# Accuracy\n",
    "plt.subplot(1, 2, 1)\n",
    "plt.plot(history.history['accuracy'], label='Train Accuracy', marker='o')\n",
    "plt.plot(history.history['val_accuracy'], label='Val Accuracy', marker='x')\n",
    "plt.title('Model Accuracy')\n",
    "plt.xlabel('Epoch')\n",
    "plt.ylabel('Accuracy')\n",
    "plt.legend()\n",
    "# Loss\n",
    "plt.subplot(1, 2, 2)\n",
    "plt.plot(history.history['loss'], label='Train Loss', marker='o')\n",
    "plt.plot(history.history['val_loss'], label='Val Loss', marker='x')\n",
    "plt.title('Model Loss')\n",
    "plt.xlabel('Epoch')\n",
    "plt.ylabel('Loss')\n",
    "plt.legend()\n",
    "plt.tight_layout()\n",
    "plt.show()"
   ]
  },
  {
   "cell_type": "code",
   "execution_count": 9,
   "id": "23f7b885-4a46-4916-a907-e76a27db3d7b",
   "metadata": {},
   "outputs": [
    {
     "name": "stderr",
     "output_type": "stream",
     "text": [
      "C:\\Users\\jaini\\.conda\\envs\\plant-disease-predict\\lib\\site-packages\\tqdm\\auto.py:21: TqdmWarning: IProgress not found. Please update jupyter and ipywidgets. See https://ipywidgets.readthedocs.io/en/stable/user_install.html\n",
      "  from .autonotebook import tqdm as notebook_tqdm\n",
      "WARNING:absl:Compiled the loaded model, but the compiled metrics have yet to be built. `model.compile_metrics` will be empty until you train or evaluate the model.\n"
     ]
    },
    {
     "name": "stdout",
     "output_type": "stream",
     "text": [
      "* Running on local URL:  http://127.0.0.1:7860\n",
      "\n",
      "To create a public link, set `share=True` in `launch()`.\n"
     ]
    },
    {
     "data": {
      "text/html": [
       "<div><iframe src=\"http://127.0.0.1:7860/\" width=\"100%\" height=\"500\" allow=\"autoplay; camera; microphone; clipboard-read; clipboard-write;\" frameborder=\"0\" allowfullscreen></iframe></div>"
      ],
      "text/plain": [
       "<IPython.core.display.HTML object>"
      ]
     },
     "metadata": {},
     "output_type": "display_data"
    },
    {
     "data": {
      "text/plain": []
     },
     "execution_count": 9,
     "metadata": {},
     "output_type": "execute_result"
    },
    {
     "name": "stdout",
     "output_type": "stream",
     "text": [
      "\u001b[1m1/1\u001b[0m \u001b[32m━━━━━━━━━━━━━━━━━━━━\u001b[0m\u001b[37m\u001b[0m \u001b[1m1s\u001b[0m 521ms/step\n"
     ]
    }
   ],
   "source": [
    "import gradio as gr\n",
    "from tensorflow.keras.models import load_model\n",
    "from tensorflow.keras.preprocessing import image\n",
    "import numpy as np\n",
    "\n",
    "model = load_model('Plant_disease_model.h5')\n",
    "# Get class labels from train_generator\n",
    "labels = list(train_generator.class_indices.keys())\n",
    "\n",
    "img_width, img_height = 128, 128\n",
    "\n",
    "def predict_disease_with_img(img):\n",
    "    img_resized = img.resize((img_width, img_height))\n",
    "    img_array = image.img_to_array(img_resized) / 255.0\n",
    "    img_array = np.expand_dims(img_array, axis=0)\n",
    "    prediction = model.predict(img_array)\n",
    "    predicted_class = labels[np.argmax(prediction)]\n",
    "    confidence = np.max(prediction) * 100\n",
    "    result = f\"Prediction: {predicted_class}\\nConfidence: {confidence:.2f}%\"\n",
    "    return img, result\n",
    "\n",
    "interface = gr.Interface(\n",
    "fn=predict_disease_with_img,\n",
    "inputs=gr.Image(type=\"pil\"),\n",
    "outputs=[gr.Image(), \"text\"],\n",
    "title=\"Plant Disease Detection\",\n",
    "description=\"Upload a leaf image to get a disease prediction.\"\n",
    ")\n",
    "interface.launch()"
   ]
  },
  {
   "cell_type": "code",
   "execution_count": null,
   "id": "42eb94b6-4343-4b74-a104-616071622397",
   "metadata": {},
   "outputs": [],
   "source": [
    "import gradio as gr\n",
    "from tensorflow.keras.models import load_model\n",
    "from tensorflow.keras.preprocessing import image\n",
    "import numpy as np\n",
    "\n",
    "model = load_model('Plant_disease_model.h5')\n",
    "# Get class labels from train_generator\n",
    "labels = list(train_generator.class_indices.keys())\n",
    "\n",
    "img_width, img_height = 128, 128\n",
    "# Prediction function\n",
    "def predict_disease(image):\n",
    "    img = image.resize((img_width, img_height))\n",
    "    img_array = img_to_array(img) / 255.0\n",
    "    img_array = np.expand_dims(img_array, axis=0)\n",
    "\n",
    "    prediction = model.predict(img_array)[0]\n",
    "    predicted_index = np.argmax(prediction)\n",
    "    predicted_class = class_labels[predicted_index]\n",
    "    confidence = prediction[predicted_index]\n",
    "\n",
    "    # Clean label\n",
    "    readable_label = predicted_class.replace(\"___\", \" - \").replace(\"_\", \" \")\n",
    "\n",
    "    # Disease solutions (you can expand this)\n",
    "    disease_solutions = {\n",
    "        \"Tomato - Tomato Yellow Leaf Curl Virus\": \"Remove infected plants. Use insect-proof nets and resistant varieties.\",\n",
    "        \"Tomato - Late Blight\": \"Apply fungicides like Mancozeb. Improve air circulation and avoid overhead watering.\",\n",
    "        \"Tomato - Healthy\": \"No disease detected. Maintain good irrigation and nutrient schedule.\",\n",
    "        # Add more here as needed\n",
    "    }\n",
    "     solution = disease_solutions.get(readable_label, \"No specific solution available.\")\n",
    "\n",
    "    # Plot confidence\n",
    "    fig, ax = plt.subplots()\n",
    "    ax.barh(class_labels, prediction)\n",
    "    ax.set_xlim(0, 1)\n",
    "    ax.set_xlabel(\"Confidence\")\n",
    "    ax.set_title(\"Prediction Probabilities\")\n",
    "    plt.tight_layout()\n",
    "\n",
    "    return readable_label, f\"{confidence * 100:.2f}%\", solution, fig\n",
    "\n",
    "    interface = gr.Interface(\n",
    "    fn=predict_disease,\n",
    "    inputs=gr.Image(type=\"pil\"),\n",
    "    outputs=[\"text\", \"text\", \"text\", gr.Plot()],\n",
    "    title=\"🌿 Plant Disease Doctor\",\n",
    "    description=\"Upload a plant leaf image to detect the disease and get solutions.\"\n",
    ")\n",
    "\n",
    "interface.launch()"
   ]
  },
  {
   "cell_type": "code",
   "execution_count": 10,
   "id": "73d03fca-b9e8-4a4d-95b6-da321a245196",
   "metadata": {},
   "outputs": [
    {
     "name": "stderr",
     "output_type": "stream",
     "text": [
      "WARNING:absl:Compiled the loaded model, but the compiled metrics have yet to be built. `model.compile_metrics` will be empty until you train or evaluate the model.\n"
     ]
    },
    {
     "name": "stdout",
     "output_type": "stream",
     "text": [
      "* Running on local URL:  http://127.0.0.1:7861\n",
      "\n",
      "To create a public link, set `share=True` in `launch()`.\n"
     ]
    },
    {
     "data": {
      "text/html": [
       "<div><iframe src=\"http://127.0.0.1:7861/\" width=\"100%\" height=\"500\" allow=\"autoplay; camera; microphone; clipboard-read; clipboard-write;\" frameborder=\"0\" allowfullscreen></iframe></div>"
      ],
      "text/plain": [
       "<IPython.core.display.HTML object>"
      ]
     },
     "metadata": {},
     "output_type": "display_data"
    },
    {
     "data": {
      "text/plain": []
     },
     "execution_count": 10,
     "metadata": {},
     "output_type": "execute_result"
    },
    {
     "name": "stdout",
     "output_type": "stream",
     "text": [
      "\u001b[1m1/1\u001b[0m \u001b[32m━━━━━━━━━━━━━━━━━━━━\u001b[0m\u001b[37m\u001b[0m \u001b[1m1s\u001b[0m 501ms/step\n"
     ]
    }
   ],
   "source": [
    "import gradio as gr\n",
    "from tensorflow.keras.models import load_model\n",
    "from tensorflow.keras.preprocessing.image import img_to_array\n",
    "import numpy as np\n",
    "import matplotlib.pyplot as plt\n",
    "\n",
    "# Load the trained model\n",
    "model = load_model('Plant_disease_model.h5')\n",
    "\n",
    "# List of class labels\n",
    "class_labels = ['Apple___Apple_scab', 'Apple___Black_rot', 'Apple___Cedar_apple_rust', 'Apple___healthy',\n",
    "                'Blueberry___healthy', 'Cherry_(including_sour)___healthy', 'Cherry_(including_sour)___Powdery_mildew',\n",
    "                'Corn_(maize)___Cercospora_leaf_spot Gray_leaf_spot', 'Corn_(maize)___Common_rust_', 'Corn_(maize)___healthy',\n",
    "                'Corn_(maize)___Northern_Leaf_Blight', 'Grape___Black_rot', 'Grape___Esca_(Black_Measles)', 'Grape___healthy',\n",
    "                'Grape___Leaf_blight_(Isariopsis_Leaf_Spot)', 'Orange___Haunglongbing_(Citrus_greening)',\n",
    "                'Peach___Bacterial_spot', 'Peach___healthy', 'Pepper,_bell___Bacterial_spot', 'Pepper,_bell___healthy',\n",
    "                'Potato___Early_blight', 'Potato___healthy', 'Potato___Late_blight', 'Raspberry___healthy',\n",
    "                'Soybean___healthy', 'Squash___Powdery_mildew', 'Strawberry___healthy', 'Strawberry___Leaf_scorch',\n",
    "                'Tomato___Bacterial_spot', 'Tomato___Early_blight', 'Tomato___healthy', 'Tomato___Late_blight',\n",
    "                'Tomato___Leaf_Mold', 'Tomato___Septoria_leaf_spot', 'Tomato___Spider_mites Two-spotted_spider_mite',\n",
    "                'Tomato___Target_Spot', 'Tomato___Tomato_mosaic_virus', 'Tomato___Tomato_Yellow_Leaf_Curl_Virus']\n",
    "\n",
    "# Disease solutions dictionary\n",
    "disease_solutions = {\n",
    "    \"Apple - Apple scab\": \"Use fungicides like captan. Prune infected leaves and avoid overhead watering.\",\n",
    "    \"Apple - Black rot\": \"Remove mummified fruits and prune infected branches. Apply appropriate fungicides.\",\n",
    "    \"Apple - Cedar apple rust\": \"Remove nearby junipers. Apply fungicides during early spring.\",\n",
    "    \"Apple - healthy\": \"No disease detected. Continue routine monitoring.\",\n",
    "    \"Blueberry - healthy\": \"No disease detected. Maintain healthy soil and water balance.\",\n",
    "    \"Cherry (including sour) - healthy\": \"No disease detected.\",\n",
    "    \"Cherry (including sour) - Powdery mildew\": \"Use sulfur-based fungicides. Ensure proper air circulation.\",\n",
    "    \"Corn (maize) - Cercospora leaf spot Gray leaf spot\": \"Use resistant hybrids and crop rotation. Apply fungicide if severe.\",\n",
    "    \"Corn (maize) - Common rust\": \"Use resistant varieties. Apply fungicide if needed.\",\n",
    "    \"Corn (maize) - healthy\": \"No disease detected.\",\n",
    "    \"Corn (maize) - Northern Leaf Blight\": \"Use resistant varieties. Remove debris after harvest.\",\n",
    "    \"Grape - Black rot\": \"Prune infected leaves and apply fungicides like mancozeb.\",\n",
    "    \"Grape - Esca (Black Measles)\": \"No cure. Remove and destroy infected vines.\",\n",
    "    \"Grape - healthy\": \"No disease detected.\",\n",
    "    \"Grape - Leaf blight (Isariopsis Leaf Spot)\": \"Use protective fungicides. Ensure good air flow.\",\n",
    "    \"Orange - Haunglongbing (Citrus greening)\": \"No cure. Remove infected trees. Control psyllids (insect vector).\",\n",
    "    \"Peach - Bacterial spot\": \"Use copper-based bactericides. Avoid overhead irrigation.\",\n",
    "    \"Peach - healthy\": \"No disease detected.\",\n",
    "    \"Pepper, bell - Bacterial spot\": \"Use certified disease-free seeds. Apply copper sprays.\",\n",
    "    \"Pepper, bell - healthy\": \"No disease detected.\",\n",
    "    \"Potato - Early blight\": \"Apply fungicides and rotate crops regularly.\",\n",
    "    \"Potato - healthy\": \"No disease detected.\",\n",
    "    \"Potato - Late blight\": \"Use fungicides like mancozeb or chlorothalonil. Destroy infected plants.\",\n",
    "    \"Raspberry - healthy\": \"No disease detected.\",\n",
    "    \"Soybean - healthy\": \"No disease detected.\",\n",
    "    \"Squash - Powdery mildew\": \"Apply sulfur-based fungicides. Avoid overhead watering.\",\n",
    "    \"Strawberry - healthy\": \"No disease detected.\",\n",
    "    \"Strawberry - Leaf scorch\": \"Remove infected leaves. Improve air circulation. Use fungicides.\",\n",
    "    \"Tomato - Bacterial spot\": \"Avoid working with wet plants. Use copper sprays.\",\n",
    "    \"Tomato - Early blight\": \"Use crop rotation. Apply fungicide regularly.\",\n",
    "    \"Tomato - healthy\": \"No disease detected.\",\n",
    "    \"Tomato - Late blight\": \"Use resistant varieties and apply fungicides like chlorothalonil.\",\n",
    "    \"Tomato - Leaf Mold\": \"Improve ventilation. Apply fungicides like mancozeb.\",\n",
    "    \"Tomato - Septoria leaf spot\": \"Remove infected leaves. Use fungicide like chlorothalonil.\",\n",
    "    \"Tomato - Spider mites Two-spotted spider mite\": \"Spray insecticidal soap. Remove infested leaves.\",\n",
    "    \"Tomato - Target Spot\": \"Use crop rotation. Apply fungicides.\",\n",
    "    \"Tomato - Tomato mosaic virus\": \"Remove infected plants. Avoid handling healthy plants after infected ones.\",\n",
    "    \"Tomato - Tomato Yellow Leaf Curl Virus\": \"Use resistant seeds. Control whiteflies using insecticides.\"\n",
    "}\n",
    "\n",
    "# Image dimensions\n",
    "img_width, img_height = 128, 128\n",
    "\n",
    "# Prediction function\n",
    "def predict_disease(img):\n",
    "    img = img.resize((img_width, img_height))\n",
    "    img_array = img_to_array(img) / 255.0\n",
    "    img_array = np.expand_dims(img_array, axis=0)\n",
    "\n",
    "    prediction = model.predict(img_array)[0]\n",
    "    predicted_index = np.argmax(prediction)\n",
    "    predicted_class = class_labels[predicted_index]\n",
    "    confidence = prediction[predicted_index]\n",
    "\n",
    "    # Clean label for readability\n",
    "    readable_label = predicted_class.replace(\"___\", \" - \").replace(\"_\", \" \")\n",
    "\n",
    "    # Get solution\n",
    "    solution = disease_solutions.get(readable_label, \"No specific solution available.\")\n",
    "\n",
    "    # Plot confidence\n",
    "    fig, ax = plt.subplots()\n",
    "    ax.barh([label.replace(\"___\", \" - \").replace(\"_\", \" \") for label in class_labels], prediction)\n",
    "    ax.set_xlim(0, 1)\n",
    "    ax.set_xlabel(\"Confidence\")\n",
    "    ax.set_title(\"Prediction Probabilities\")\n",
    "    plt.tight_layout()\n",
    "\n",
    "    return readable_label, f\"{confidence * 100:.2f}%\", solution, fig\n",
    "\n",
    "# Gradio interface\n",
    "interface = gr.Interface(\n",
    "    fn=predict_disease,\n",
    "    inputs=gr.Image(type=\"pil\"),\n",
    "    outputs=[\"text\", \"text\", \"text\", gr.Plot()],\n",
    "    title=\"🌿 Plant Disease Doctor\",\n",
    "    description=\"Upload a plant leaf image to detect the disease, see the confidence score, and get a suggested treatment.\"\n",
    ")\n",
    "\n",
    "interface.launch()\n"
   ]
  },
  {
   "cell_type": "code",
   "execution_count": 11,
   "id": "830c9eef-6213-42c6-84e0-eea10bc1b2fb",
   "metadata": {},
   "outputs": [
    {
     "name": "stderr",
     "output_type": "stream",
     "text": [
      "WARNING:absl:Compiled the loaded model, but the compiled metrics have yet to be built. `model.compile_metrics` will be empty until you train or evaluate the model.\n"
     ]
    },
    {
     "name": "stdout",
     "output_type": "stream",
     "text": [
      "* Running on local URL:  http://127.0.0.1:7862\n",
      "\n",
      "To create a public link, set `share=True` in `launch()`.\n"
     ]
    },
    {
     "data": {
      "text/html": [
       "<div><iframe src=\"http://127.0.0.1:7862/\" width=\"100%\" height=\"500\" allow=\"autoplay; camera; microphone; clipboard-read; clipboard-write;\" frameborder=\"0\" allowfullscreen></iframe></div>"
      ],
      "text/plain": [
       "<IPython.core.display.HTML object>"
      ]
     },
     "metadata": {},
     "output_type": "display_data"
    },
    {
     "data": {
      "text/plain": []
     },
     "execution_count": 11,
     "metadata": {},
     "output_type": "execute_result"
    },
    {
     "name": "stdout",
     "output_type": "stream",
     "text": [
      "\u001b[1m1/1\u001b[0m \u001b[32m━━━━━━━━━━━━━━━━━━━━\u001b[0m\u001b[37m\u001b[0m \u001b[1m1s\u001b[0m 552ms/step\n",
      "\u001b[1m1/1\u001b[0m \u001b[32m━━━━━━━━━━━━━━━━━━━━\u001b[0m\u001b[37m\u001b[0m \u001b[1m0s\u001b[0m 427ms/step\n",
      "\u001b[1m1/1\u001b[0m \u001b[32m━━━━━━━━━━━━━━━━━━━━\u001b[0m\u001b[37m\u001b[0m \u001b[1m0s\u001b[0m 433ms/step\n"
     ]
    }
   ],
   "source": [
    "import gradio as gr\n",
    "from tensorflow.keras.models import load_model\n",
    "from tensorflow.keras.preprocessing.image import img_to_array\n",
    "import numpy as np\n",
    "import matplotlib.pyplot as plt\n",
    "\n",
    "# Load the trained model\n",
    "model = load_model('Plant_disease_model.h5')\n",
    "\n",
    "# List of class labels\n",
    "class_labels = ['Apple___Apple_scab', 'Apple___Black_rot', 'Apple___Cedar_apple_rust', 'Apple___healthy',\n",
    "                'Blueberry___healthy', 'Cherry_(including_sour)___healthy', 'Cherry_(including_sour)___Powdery_mildew',\n",
    "                'Corn_(maize)___Cercospora_leaf_spot Gray_leaf_spot', 'Corn_(maize)___Common_rust_', 'Corn_(maize)___healthy',\n",
    "                'Corn_(maize)___Northern_Leaf_Blight', 'Grape___Black_rot', 'Grape___Esca_(Black_Measles)', 'Grape___healthy',\n",
    "                'Grape___Leaf_blight_(Isariopsis_Leaf_Spot)', 'Orange___Haunglongbing_(Citrus_greening)',\n",
    "                'Peach___Bacterial_spot', 'Peach___healthy', 'Pepper,_bell___Bacterial_spot', 'Pepper,_bell___healthy',\n",
    "                'Potato___Early_blight', 'Potato___healthy', 'Potato___Late_blight', 'Raspberry___healthy',\n",
    "                'Soybean___healthy', 'Squash___Powdery_mildew', 'Strawberry___healthy', 'Strawberry___Leaf_scorch',\n",
    "                'Tomato___Bacterial_spot', 'Tomato___Early_blight', 'Tomato___healthy', 'Tomato___Late_blight',\n",
    "                'Tomato___Leaf_Mold', 'Tomato___Septoria_leaf_spot', 'Tomato___Spider_mites Two-spotted_spider_mite',\n",
    "                'Tomato___Target_Spot', 'Tomato___Tomato_mosaic_virus', 'Tomato___Tomato_Yellow_Leaf_Curl_Virus']\n",
    "\n",
    "# Disease solutions dictionary\n",
    "disease_solutions = {\n",
    "    \"Apple - Apple scab\": \"Use fungicides like captan. Prune infected leaves and avoid overhead watering.\",\n",
    "    \"Apple - Black rot\": \"Remove mummified fruits and prune infected branches. Apply appropriate fungicides.\",\n",
    "    \"Apple - Cedar apple rust\": \"Remove nearby junipers. Apply fungicides during early spring.\",\n",
    "    \"Apple - healthy\": \"No disease detected. Continue routine monitoring.\",\n",
    "    \"Blueberry - healthy\": \"No disease detected. Maintain healthy soil and water balance.\",\n",
    "    \"Cherry (including sour) - healthy\": \"No disease detected.\",\n",
    "    \"Cherry (including sour) - Powdery mildew\": \"Use sulfur-based fungicides. Ensure proper air circulation.\",\n",
    "    \"Corn (maize) - Cercospora leaf spot Gray leaf spot\": \"Use resistant hybrids and crop rotation. Apply fungicide if severe.\",\n",
    "    \"Corn (maize) - Common rust\": \"Use resistant varieties. Apply fungicide if needed.\",\n",
    "    \"Corn (maize) - healthy\": \"No disease detected.\",\n",
    "    \"Corn (maize) - Northern Leaf Blight\": \"Use resistant varieties. Remove debris after harvest.\",\n",
    "    \"Grape - Black rot\": \"Prune infected leaves and apply fungicides like mancozeb.\",\n",
    "    \"Grape - Esca (Black Measles)\": \"No cure. Remove and destroy infected vines.\",\n",
    "    \"Grape - healthy\": \"No disease detected.\",\n",
    "    \"Grape - Leaf blight (Isariopsis Leaf Spot)\": \"Use protective fungicides. Ensure good air flow.\",\n",
    "    \"Orange - Haunglongbing (Citrus greening)\": \"No cure. Remove infected trees. Control psyllids (insect vector).\",\n",
    "    \"Peach - Bacterial spot\": \"Use copper-based bactericides. Avoid overhead irrigation.\",\n",
    "    \"Peach - healthy\": \"No disease detected.\",\n",
    "    \"Pepper, bell - Bacterial spot\": \"Use certified disease-free seeds. Apply copper sprays.\",\n",
    "    \"Pepper, bell - healthy\": \"No disease detected.\",\n",
    "    \"Potato - Early blight\": \"Apply fungicides and rotate crops regularly.\",\n",
    "    \"Potato - healthy\": \"No disease detected.\",\n",
    "    \"Potato - Late blight\": \"Use fungicides like mancozeb or chlorothalonil. Destroy infected plants.\",\n",
    "    \"Raspberry - healthy\": \"No disease detected.\",\n",
    "    \"Soybean - healthy\": \"No disease detected.\",\n",
    "    \"Squash - Powdery mildew\": \"Apply sulfur-based fungicides. Avoid overhead watering.\",\n",
    "    \"Strawberry - healthy\": \"No disease detected.\",\n",
    "    \"Strawberry - Leaf scorch\": \"Remove infected leaves. Improve air circulation. Use fungicides.\",\n",
    "    \"Tomato - Bacterial spot\": \"Avoid working with wet plants. Use copper sprays.\",\n",
    "    \"Tomato - Early blight\": \"Use crop rotation. Apply fungicide regularly.\",\n",
    "    \"Tomato - healthy\": \"No disease detected.\",\n",
    "    \"Tomato - Late blight\": \"Use resistant varieties and apply fungicides like chlorothalonil.\",\n",
    "    \"Tomato - Leaf Mold\": \"Improve ventilation. Apply fungicides like mancozeb.\",\n",
    "    \"Tomato - Septoria leaf spot\": \"Remove infected leaves. Use fungicide like chlorothalonil.\",\n",
    "    \"Tomato - Spider mites Two-spotted spider mite\": \"Spray insecticidal soap. Remove infested leaves.\",\n",
    "    \"Tomato - Target Spot\": \"Use crop rotation. Apply fungicides.\",\n",
    "    \"Tomato - Tomato mosaic virus\": \"Remove infected plants. Avoid handling healthy plants after infected ones.\",\n",
    "    \"Tomato - Tomato Yellow Leaf Curl Virus\": \"Use resistant seeds. Control whiteflies using insecticides.\"\n",
    "}\n",
    "\n",
    "# Image dimensions\n",
    "img_width, img_height = 128, 128\n",
    "\n",
    "# Prediction function\n",
    "def predict_disease(img):\n",
    "    img = img.resize((img_width, img_height))\n",
    "    img_array = img_to_array(img) / 255.0\n",
    "    img_array = np.expand_dims(img_array, axis=0)\n",
    "\n",
    "    prediction = model.predict(img_array)[0]\n",
    "    predicted_index = np.argmax(prediction)\n",
    "    predicted_class = class_labels[predicted_index]\n",
    "    confidence = prediction[predicted_index]\n",
    "\n",
    "    # Clean label for readability\n",
    "    readable_label = predicted_class.replace(\"___\", \" - \").replace(\"_\", \" \")\n",
    "\n",
    "    # Get solution\n",
    "    solution = disease_solutions.get(readable_label, \"No specific solution available.\")\n",
    "\n",
    "    # Plot confidence\n",
    "    fig, ax = plt.subplots()\n",
    "    ax.barh([label.replace(\"___\", \" - \").replace(\"_\", \" \") for label in class_labels], prediction)\n",
    "    ax.set_xlim(0, 1)\n",
    "    ax.set_xlabel(\"Confidence\")\n",
    "    ax.set_title(\"Prediction Probabilities\")\n",
    "    plt.tight_layout()\n",
    "\n",
    "    return readable_label, f\"{confidence * 100:.2f}%\", solution, fig\n",
    "\n",
    "interface = gr.Interface(\n",
    "    fn=predict_disease,\n",
    "    inputs=gr.Image(type=\"pil\", label=\"📷 Upload Leaf Image\"),\n",
    "    outputs=[\n",
    "        gr.Textbox(label=\"🦠 Detected Disease\"),\n",
    "        gr.Textbox(label=\"📊 Confidence\"),\n",
    "        gr.Textbox(label=\"💡 Suggested Solution\"),\n",
    "        gr.Plot(label=\"📉 Prediction Probabilities\")\n",
    "    ],\n",
    "    title=\"🌿 Plant Disease Doctor\",\n",
    "    description=\"Upload a plant leaf image to detect the disease, check prediction confidence, and get a treatment recommendation.\"\n",
    ")\n",
    "\n",
    "\n",
    "interface.launch()\n"
   ]
  },
  {
   "cell_type": "code",
   "execution_count": 1,
   "id": "c92aca1b-d17d-43f3-a897-c0ce876bbc88",
   "metadata": {},
   "outputs": [
    {
     "ename": "ModuleNotFoundError",
     "evalue": "No module named 'gradio'",
     "output_type": "error",
     "traceback": [
      "\u001b[1;31m---------------------------------------------------------------------------\u001b[0m",
      "\u001b[1;31mModuleNotFoundError\u001b[0m                       Traceback (most recent call last)",
      "Cell \u001b[1;32mIn[1], line 1\u001b[0m\n\u001b[1;32m----> 1\u001b[0m \u001b[38;5;28;01mimport\u001b[39;00m \u001b[38;5;21;01mgradio\u001b[39;00m \u001b[38;5;28;01mas\u001b[39;00m \u001b[38;5;21;01mgr\u001b[39;00m\n\u001b[0;32m      2\u001b[0m \u001b[38;5;28;01mfrom\u001b[39;00m \u001b[38;5;21;01mtensorflow\u001b[39;00m\u001b[38;5;21;01m.\u001b[39;00m\u001b[38;5;21;01mkeras\u001b[39;00m\u001b[38;5;21;01m.\u001b[39;00m\u001b[38;5;21;01mmodels\u001b[39;00m \u001b[38;5;28;01mimport\u001b[39;00m load_model\n\u001b[0;32m      3\u001b[0m \u001b[38;5;28;01mfrom\u001b[39;00m \u001b[38;5;21;01mtensorflow\u001b[39;00m\u001b[38;5;21;01m.\u001b[39;00m\u001b[38;5;21;01mkeras\u001b[39;00m\u001b[38;5;21;01m.\u001b[39;00m\u001b[38;5;21;01mpreprocessing\u001b[39;00m\u001b[38;5;21;01m.\u001b[39;00m\u001b[38;5;21;01mimage\u001b[39;00m \u001b[38;5;28;01mimport\u001b[39;00m img_to_array\n",
      "\u001b[1;31mModuleNotFoundError\u001b[0m: No module named 'gradio'"
     ]
    }
   ],
   "source": [
    "import gradio as gr\n",
    "from tensorflow.keras.models import load_model\n",
    "from tensorflow.keras.preprocessing.image import img_to_array\n",
    "import numpy as np\n",
    "import matplotlib.pyplot as plt\n",
    "\n",
    "# Load the trained model\n",
    "model = load_model('Plant_disease_model.h5')\n",
    "\n",
    "# List of class labels\n",
    "class_labels = ['Apple___Apple_scab', 'Apple___Black_rot', 'Apple___Cedar_apple_rust', 'Apple___healthy',\n",
    "                'Blueberry___healthy', 'Cherry_(including_sour)___healthy', 'Cherry_(including_sour)___Powdery_mildew',\n",
    "                'Corn_(maize)___Cercospora_leaf_spot Gray_leaf_spot', 'Corn_(maize)___Common_rust_', 'Corn_(maize)___healthy',\n",
    "                'Corn_(maize)___Northern_Leaf_Blight', 'Grape___Black_rot', 'Grape___Esca_(Black_Measles)', 'Grape___healthy',\n",
    "                'Grape___Leaf_blight_(Isariopsis_Leaf_Spot)', 'Orange___Haunglongbing_(Citrus_greening)',\n",
    "                'Peach___Bacterial_spot', 'Peach___healthy', 'Pepper,_bell___Bacterial_spot', 'Pepper,_bell___healthy',\n",
    "                'Potato___Early_blight', 'Potato___healthy', 'Potato___Late_blight', 'Raspberry___healthy',\n",
    "                'Soybean___healthy', 'Squash___Powdery_mildew', 'Strawberry___healthy', 'Strawberry___Leaf_scorch',\n",
    "                'Tomato___Bacterial_spot', 'Tomato___Early_blight', 'Tomato___healthy', 'Tomato___Late_blight',\n",
    "                'Tomato___Leaf_Mold', 'Tomato___Septoria_leaf_spot', 'Tomato___Spider_mites Two-spotted_spider_mite',\n",
    "                'Tomato___Target_Spot', 'Tomato___Tomato_mosaic_virus', 'Tomato___Tomato_Yellow_Leaf_Curl_Virus']\n",
    "\n",
    "# Disease solutions dictionary\n",
    "disease_solutions = {\n",
    "    \"Apple - Apple scab\": \"Use fungicides like captan. Prune infected leaves and avoid overhead watering.\",\n",
    "    \"Apple - Black rot\": \"Remove mummified fruits and prune infected branches. Apply appropriate fungicides.\",\n",
    "    \"Apple - Cedar apple rust\": \"Remove nearby junipers. Apply fungicides during early spring.\",\n",
    "    \"Apple - healthy\": \"No disease detected. Continue routine monitoring.\",\n",
    "    \"Blueberry - healthy\": \"No disease detected. Maintain healthy soil and water balance.\",\n",
    "    \"Cherry (including sour) - healthy\": \"No disease detected.\",\n",
    "    \"Cherry (including sour) - Powdery mildew\": \"Use sulfur-based fungicides. Ensure proper air circulation.\",\n",
    "    \"Corn (maize) - Cercospora leaf spot Gray leaf spot\": \"Use resistant hybrids and crop rotation. Apply fungicide if severe.\",\n",
    "    \"Corn (maize) - Common rust\": \"Use resistant varieties. Apply fungicide if needed.\",\n",
    "    \"Corn (maize) - healthy\": \"No disease detected.\",\n",
    "    \"Corn (maize) - Northern Leaf Blight\": \"Use resistant varieties. Remove debris after harvest.\",\n",
    "    \"Grape - Black rot\": \"Prune infected leaves and apply fungicides like mancozeb.\",\n",
    "    \"Grape - Esca (Black Measles)\": \"No cure. Remove and destroy infected vines.\",\n",
    "    \"Grape - healthy\": \"No disease detected.\",\n",
    "    \"Grape - Leaf blight (Isariopsis Leaf Spot)\": \"Use protective fungicides. Ensure good air flow.\",\n",
    "    \"Orange - Haunglongbing (Citrus greening)\": \"No cure. Remove infected trees. Control psyllids (insect vector).\",\n",
    "    \"Peach - Bacterial spot\": \"Use copper-based bactericides. Avoid overhead irrigation.\",\n",
    "    \"Peach - healthy\": \"No disease detected.\",\n",
    "    \"Pepper, bell - Bacterial spot\": \"Use certified disease-free seeds. Apply copper sprays.\",\n",
    "    \"Pepper, bell - healthy\": \"No disease detected.\",\n",
    "    \"Potato - Early blight\": \"Apply fungicides and rotate crops regularly.\",\n",
    "    \"Potato - healthy\": \"No disease detected.\",\n",
    "    \"Potato - Late blight\": \"Use fungicides like mancozeb or chlorothalonil. Destroy infected plants.\",\n",
    "    \"Raspberry - healthy\": \"No disease detected.\",\n",
    "    \"Soybean - healthy\": \"No disease detected.\",\n",
    "    \"Squash - Powdery mildew\": \"Apply sulfur-based fungicides. Avoid overhead watering.\",\n",
    "    \"Strawberry - healthy\": \"No disease detected.\",\n",
    "    \"Strawberry - Leaf scorch\": \"Remove infected leaves. Improve air circulation. Use fungicides.\",\n",
    "    \"Tomato - Bacterial spot\": \"Avoid working with wet plants. Use copper sprays.\",\n",
    "    \"Tomato - Early blight\": \"Use crop rotation. Apply fungicide regularly.\",\n",
    "    \"Tomato - healthy\": \"No disease detected.\",\n",
    "    \"Tomato - Late blight\": \"Use resistant varieties and apply fungicides like chlorothalonil.\",\n",
    "    \"Tomato - Leaf Mold\": \"Improve ventilation. Apply fungicides like mancozeb.\",\n",
    "    \"Tomato - Septoria leaf spot\": \"Remove infected leaves. Use fungicide like chlorothalonil.\",\n",
    "    \"Tomato - Spider mites Two-spotted spider mite\": \"Spray insecticidal soap. Remove infested leaves.\",\n",
    "    \"Tomato - Target Spot\": \"Use crop rotation. Apply fungicides.\",\n",
    "    \"Tomato - Tomato mosaic virus\": \"Remove infected plants. Avoid handling healthy plants after infected ones.\",\n",
    "    \"Tomato - Tomato Yellow Leaf Curl Virus\": \"Use resistant seeds. Control whiteflies using insecticides.\"\n",
    "}\n",
    "\n",
    "# Image dimensions\n",
    "img_width, img_height = 128, 128\n",
    "\n",
    "# Prediction function\n",
    "def predict_disease(img):\n",
    "    img = img.resize((img_width, img_height))\n",
    "    img_array = img_to_array(img) / 255.0\n",
    "    img_array = np.expand_dims(img_array, axis=0)\n",
    "\n",
    "    prediction = model.predict(img_array)[0]\n",
    "    predicted_index = np.argmax(prediction)\n",
    "    predicted_class = class_labels[predicted_index]\n",
    "    confidence = prediction[predicted_index]\n",
    "\n",
    "    # Clean label for readability\n",
    "    readable_label = predicted_class.replace(\"___\", \" - \").replace(\"_\", \" \")\n",
    "\n",
    "    # Get solution\n",
    "    solution = disease_solutions.get(readable_label, \"No specific solution available.\")\n",
    "\n",
    "    # Plot confidence\n",
    "    fig, ax = plt.subplots()\n",
    "    ax.barh([label.replace(\"___\", \" - \").replace(\"_\", \" \") for label in class_labels], prediction)\n",
    "    ax.set_xlim(0, 1)\n",
    "    ax.set_xlabel(\"Confidence\")\n",
    "    ax.set_title(\"Prediction Probabilities\")\n",
    "    plt.tight_layout()\n",
    "\n",
    "    return readable_label, f\"{confidence * 100:.2f}%\", solution, fig\n",
    "\n",
    "interface = gr.Interface(\n",
    "    fn=predict_disease,\n",
    "    inputs=gr.Image(type=\"pil\", label=\"📷 Upload Leaf Image\"),\n",
    "    outputs=[\n",
    "        gr.Textbox(label=\"🦠 Detected Disease\"),\n",
    "        gr.Textbox(label=\"📊 Confidence\"),\n",
    "        gr.Textbox(label=\"💡 Suggested Solution\"),\n",
    "        gr.Plot(label=\"📉 Prediction Probabilities\")\n",
    "    ],\n",
    "    title=\"🌿 Plant Disease Doctor\",\n",
    "    description=\"Upload a plant leaf image to detect the disease, check prediction confidence, and get a treatment recommendation.\"\n",
    ")\n",
    "\n",
    "\n",
    "interface.launch()\n"
   ]
  },
  {
   "cell_type": "code",
   "execution_count": null,
   "id": "24255c90-0265-4920-8b08-a803cac8926f",
   "metadata": {},
   "outputs": [],
   "source": []
  }
 ],
 "metadata": {
  "kernelspec": {
   "display_name": "Python 3 (ipykernel)",
   "language": "python",
   "name": "python3"
  },
  "language_info": {
   "codemirror_mode": {
    "name": "ipython",
    "version": 3
   },
   "file_extension": ".py",
   "mimetype": "text/x-python",
   "name": "python",
   "nbconvert_exporter": "python",
   "pygments_lexer": "ipython3",
   "version": "3.10.16"
  }
 },
 "nbformat": 4,
 "nbformat_minor": 5
}
